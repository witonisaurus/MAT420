{
  "nbformat": 4,
  "nbformat_minor": 0,
  "metadata": {
    "colab": {
      "name": "Interpolation.ipynb",
      "provenance": [],
      "authorship_tag": "ABX9TyOcdA1MoCB10LTCt9+RdkD1",
      "include_colab_link": true
    },
    "kernelspec": {
      "name": "python3",
      "display_name": "Python 3"
    },
    "language_info": {
      "name": "python"
    }
  },
  "cells": [
    {
      "cell_type": "markdown",
      "metadata": {
        "id": "view-in-github",
        "colab_type": "text"
      },
      "source": [
        "<a href=\"https://colab.research.google.com/github/witonisaurus/MAT420/blob/main/Interpolation.ipynb\" target=\"_parent\"><img src=\"https://colab.research.google.com/assets/colab-badge.svg\" alt=\"Open In Colab\"/></a>"
      ]
    },
    {
      "cell_type": "code",
      "execution_count": 4,
      "metadata": {
        "id": "r45mcD1E_Hpw"
      },
      "outputs": [],
      "source": [
        "import numpy as np\n",
        "import matplotlib.pyplot as plt\n"
      ]
    },
    {
      "cell_type": "code",
      "source": [
        "# test data \n",
        "x = np.array([0, .1, .15, .35, .6, .7, .95, 1])\n",
        "y = np.array([1, 0.8187, 0.7408, 0.4966, 0.3012, 0.2466, 0.1496, 0.1353])\n",
        "X = np.linspace(0, 1, 101)"
      ],
      "metadata": {
        "id": "-ekrtsu-JWy5"
      },
      "execution_count": 5,
      "outputs": []
    },
    {
      "cell_type": "code",
      "source": [
        "# finds a linear interpolation of a given array found from a data set\n",
        "# x is an array containing experimental, independent, data points\n",
        "# y is an array containing experimental, dependent, data points\n",
        "# X is an array of test data points\n",
        "# outputs an array of same size as X representing the found linear interpolation\n",
        "\n",
        "def my_lin_interp(x, y, X):\n",
        "  Y = []\n",
        "  curr_range = 0\n",
        "  for pnt in X:\n",
        "    if pnt > x[curr_range + 1] and curr_range < len(x) - 2:\n",
        "      curr_range += 1\n",
        "    \n",
        "    m = (y[curr_range + 1] - y[curr_range]) / (x[curr_range + 1] - x[curr_range])\n",
        "    Y.append(m*(pnt-x[curr_range]) + y[curr_range])\n",
        "\n",
        "  return Y"
      ],
      "metadata": {
        "id": "OSCjRiccJoJY"
      },
      "execution_count": 28,
      "outputs": []
    },
    {
      "cell_type": "code",
      "source": [
        "Y = my_lin_interp(x, y, X)\n",
        "plt.plot(X, Y, 'g')\n",
        "plt.show()"
      ],
      "metadata": {
        "colab": {
          "base_uri": "https://localhost:8080/",
          "height": 265
        },
        "id": "8o0pmBbbJwiN",
        "outputId": "8fd1e674-ed10-4a93-e879-4342977ea9b9"
      },
      "execution_count": 8,
      "outputs": [
        {
          "output_type": "display_data",
          "data": {
            "image/png": "[encoded data removed]",
            "text/plain": [
              "<Figure size 432x288 with 1 Axes>"
            ]
          },
          "metadata": {
            "needs_background": "light"
          }
        }
      ]
    },
    {
      "cell_type": "code",
      "source": [
        "# finds a cubic interpolation of a given array found from a data set\n",
        "# x is an array containing experimental, independent, data points\n",
        "# y is an array containing experimental, dependent, data points\n",
        "# X is an array of test data points\n",
        "# outputs an array of same size as X representing the found cubic interpolation\n",
        "def my_cubic_spline(x, y, X):\n",
        "  Y = []\n",
        "\n",
        "  i = 1\n",
        "  for pnt in X:\n",
        "    if (i+1) < (len(x)-1) and pnt > x[i+1]:\n",
        "      i += 1\n",
        "\n",
        "    b = np.array(\n",
        "        [\n",
        "         y[i-1],\n",
        "         y[i],\n",
        "         y[i],\n",
        "         y[i+1],\n",
        "         0,\n",
        "         0,\n",
        "         0,\n",
        "         0\n",
        "        ]\n",
        "    )\n",
        "\n",
        "    x_1 = x[i-1]\n",
        "    x_2 = x[i]\n",
        "    x_3 = x[i+1]\n",
        "    A = np.array(\n",
        "        [\n",
        "         [x_1**3, x_1**2, x_1, 1, 0, 0, 0, 0],\n",
        "         [0, 0, 0, 0, x_2**3, x_2**2, x_2, 1],\n",
        "         [x_2**3, x_2**2, x_2, 1, 0, 0, 0, 0],\n",
        "         [0, 0, 0, 0, x_3**3, x_3**2, x_3, 1],\n",
        "         [3*(x_2**2), 2*x_2, 1, 0, -3*(x_2**2), -2*x_2, -1, 0],\n",
        "         [6*x_2, 2, 0, 0, -6*x_2, -2, 0, 0],\n",
        "         [6*x_1, 2, 0, 0, 0, 0, 0, 0],\n",
        "         [0, 0, 0, 0, 6*x_3, 2, 0, 0]\n",
        "        ]\n",
        "    )\n",
        "    \n",
        "    coeffs = np.matmul(np.linalg.inv(A), b)[:4]\n",
        "    \n",
        "    input = np.array([pnt**3, pnt**2, pnt, 1])\n",
        "    interp = np.dot(coeffs, input)\n",
        "    Y.append(interp)\n",
        "\n",
        "  return Y\n",
        "\n"
      ],
      "metadata": {
        "id": "qVtUT4yuNOyS"
      },
      "execution_count": 38,
      "outputs": []
    },
    {
      "cell_type": "code",
      "source": [
        "Y = my_cubic_spline(x, y, X)\n",
        "plt.plot(X, Y, 'g')\n",
        "plt.plot(x, y, 'rx')\n",
        "plt.show()"
      ],
      "metadata": {
        "colab": {
          "base_uri": "https://localhost:8080/",
          "height": 265
        },
        "id": "0Bq_cf8m85NN",
        "outputId": "3ce4d6b7-0645-442b-a6bc-bb35757580d4"
      },
      "execution_count": 39,
      "outputs": [
        {
          "output_type": "display_data",
          "data": {
            "image/png": "[encoded data removed]",
            "text/plain": [
              "<Figure size 432x288 with 1 Axes>"
            ]
          },
          "metadata": {
            "needs_background": "light"
          }
        }
      ]
    }
  ]
}