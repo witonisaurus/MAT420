{
  "nbformat": 4,
  "nbformat_minor": 0,
  "metadata": {
    "colab": {
      "name": "Root_Finding.ipynb",
      "provenance": [],
      "authorship_tag": "ABX9TyOOb8s0cXrgRErZvPntRBBu",
      "include_colab_link": true
    },
    "kernelspec": {
      "name": "python3",
      "display_name": "Python 3"
    },
    "language_info": {
      "name": "python"
    }
  },
  "cells": [
    {
      "cell_type": "markdown",
      "metadata": {
        "id": "view-in-github",
        "colab_type": "text"
      },
      "source": [
        "<a href=\"https://colab.research.google.com/github/witonisaurus/MAT420/blob/main/Root_Finding.ipynb\" target=\"_parent\"><img src=\"https://colab.research.google.com/assets/colab-badge.svg\" alt=\"Open In Colab\"/></a>"
      ]
    },
    {
      "cell_type": "code",
      "execution_count": 1,
      "metadata": {
        "id": "-UgpAKI2OE-3"
      },
      "outputs": [],
      "source": [
        "def my_nth_root(x, n, tol):\n",
        "  x2 = x/2\n",
        "  f = x2**n - x\n",
        "  \n",
        "  while abs(f) > tol:\n",
        "    x1 = x2\n",
        "\n",
        "    f = x2**n - x\n",
        "    f_prime = n * (x2**(n-1))\n",
        "\n",
        "\n",
        "    x2 = x1 - (f / f_prime)\n",
        "\n",
        "  return x2\n"
      ]
    },
    {
      "cell_type": "code",
      "source": [
        "print(my_nth_root(1563485123215, 19, .001))"
      ],
      "metadata": {
        "colab": {
          "base_uri": "https://localhost:8080/",
          "height": 286
        },
        "id": "VsJIRs-oKsPQ",
        "outputId": "0d843809-c512-4520-cd86-d439539e5345"
      },
      "execution_count": 3,
      "outputs": [
        {
          "output_type": "error",
          "ename": "KeyboardInterrupt",
          "evalue": "ignored",
          "traceback": [
            "\u001b[0;31m---------------------------------------------------------------------------\u001b[0m",
            "\u001b[0;31mKeyboardInterrupt\u001b[0m                         Traceback (most recent call last)",
            "\u001b[0;32m<ipython-input-3-2e5ac543e576>\u001b[0m in \u001b[0;36m<module>\u001b[0;34m()\u001b[0m\n\u001b[0;32m----> 1\u001b[0;31m \u001b[0mprint\u001b[0m\u001b[0;34m(\u001b[0m\u001b[0mmy_nth_root\u001b[0m\u001b[0;34m(\u001b[0m\u001b[0;36m1563485123215\u001b[0m\u001b[0;34m,\u001b[0m \u001b[0;36m19\u001b[0m\u001b[0;34m,\u001b[0m \u001b[0;36m.001\u001b[0m\u001b[0;34m)\u001b[0m\u001b[0;34m)\u001b[0m\u001b[0;34m\u001b[0m\u001b[0;34m\u001b[0m\u001b[0m\n\u001b[0m",
            "\u001b[0;32m<ipython-input-1-d846ce510138>\u001b[0m in \u001b[0;36mmy_nth_root\u001b[0;34m(x, n, tol)\u001b[0m\n\u001b[1;32m      6\u001b[0m     \u001b[0mx1\u001b[0m \u001b[0;34m=\u001b[0m \u001b[0mx2\u001b[0m\u001b[0;34m\u001b[0m\u001b[0;34m\u001b[0m\u001b[0m\n\u001b[1;32m      7\u001b[0m \u001b[0;34m\u001b[0m\u001b[0m\n\u001b[0;32m----> 8\u001b[0;31m     \u001b[0mf\u001b[0m \u001b[0;34m=\u001b[0m \u001b[0mx2\u001b[0m\u001b[0;34m**\u001b[0m\u001b[0mn\u001b[0m \u001b[0;34m-\u001b[0m \u001b[0mx\u001b[0m\u001b[0;34m\u001b[0m\u001b[0;34m\u001b[0m\u001b[0m\n\u001b[0m\u001b[1;32m      9\u001b[0m     \u001b[0mf_prime\u001b[0m \u001b[0;34m=\u001b[0m \u001b[0mn\u001b[0m \u001b[0;34m*\u001b[0m \u001b[0;34m(\u001b[0m\u001b[0mx2\u001b[0m\u001b[0;34m**\u001b[0m\u001b[0;34m(\u001b[0m\u001b[0mn\u001b[0m\u001b[0;34m-\u001b[0m\u001b[0;36m1\u001b[0m\u001b[0;34m)\u001b[0m\u001b[0;34m)\u001b[0m\u001b[0;34m\u001b[0m\u001b[0;34m\u001b[0m\u001b[0m\n\u001b[1;32m     10\u001b[0m \u001b[0;34m\u001b[0m\u001b[0m\n",
            "\u001b[0;31mKeyboardInterrupt\u001b[0m: "
          ]
        }
      ]
    },
    {
      "cell_type": "code",
      "source": [
        "def my_fixed_point(f, g, tol, max_iter):\n",
        "  F = lambda x: f(x) - g(x)\n",
        "\n",
        "  a = -1000\n",
        "  b = 1000\n",
        "\n",
        "  if F(a) < F(b):\n",
        "    a,b = b,a\n",
        "  \n",
        "  mid = (a+b) / 2\n",
        "\n",
        "  iter = 0\n",
        "\n",
        "  while abs(F(mid)) > tol and iter < max_iter:\n",
        "    if F(mid) > 0:\n",
        "      a = mid\n",
        "    else:\n",
        "      b = mid\n",
        "    \n",
        "    mid = (a+b) / 2\n",
        "\n",
        "    iter += 1\n",
        "\n",
        "  if abs(F(mid)) < tol:\n",
        "    return [mid, f(mid)]\n",
        "  else:\n",
        "    \n",
        "    return []"
      ],
      "metadata": {
        "id": "Ds_gcc1QLTL-"
      },
      "execution_count": 4,
      "outputs": []
    },
    {
      "cell_type": "code",
      "source": [
        "# testing\n",
        "f = lambda x: 3*x**2 + 4\n",
        "g = lambda x: x**3 - 3*x**2 + 5\n",
        "\n",
        "print(my_fixed_point(f, g, .001, 100))"
      ],
      "metadata": {
        "id": "TyFfg_WJd9z8",
        "colab": {
          "base_uri": "https://localhost:8080/"
        },
        "outputId": "bbdc9028-11cc-443f-f792-1a975e744888"
      },
      "execution_count": 6,
      "outputs": [
        {
          "output_type": "stream",
          "name": "stdout",
          "text": [
            "[-0.3952980041503906, 4.468781536255847]\n"
          ]
        }
      ]
    }
  ]
}