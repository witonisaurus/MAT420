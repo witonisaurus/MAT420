{
  "nbformat": 4,
  "nbformat_minor": 0,
  "metadata": {
    "colab": {
      "name": "GradientDescent.ipynb",
      "provenance": [],
      "authorship_tag": "ABX9TyMifCTQWOtyragw84xQOYVJ",
      "include_colab_link": true
    },
    "kernelspec": {
      "name": "python3",
      "display_name": "Python 3"
    },
    "language_info": {
      "name": "python"
    }
  },
  "cells": [
    {
      "cell_type": "markdown",
      "metadata": {
        "id": "view-in-github",
        "colab_type": "text"
      },
      "source": [
        "<a href=\"https://colab.research.google.com/github/witonisaurus/MAT420/blob/main/GradientDescent.ipynb\" target=\"_parent\"><img src=\"https://colab.research.google.com/assets/colab-badge.svg\" alt=\"Open In Colab\"/></a>"
      ]
    },
    {
      "cell_type": "code",
      "execution_count": null,
      "metadata": {
        "id": "6pTkW9utrsri"
      },
      "outputs": [],
      "source": [
        "import numpy as np\n",
        "from matplotlib import pyplot as plt "
      ]
    },
    {
      "cell_type": "code",
      "source": [
        "# define function\n",
        "# find minimum via gradient descent\n",
        "\n",
        "f = lambda x: (x**4 - 3*x**2 - 2*x) \n",
        "\n",
        "\n",
        "domain = list(np.linspace(-2, 2, 100))\n",
        "codomain = [f(x) for x in domain]\n",
        "\n",
        "plt.plot(domain, codomain)\n",
        "\n",
        "# alpha = learning rate / step size\n",
        "# beta = strength of 'momentum'\n",
        "# x_(k+1) = x_k + alpha * f'(x_k) + beta * (x_k - x_(k-1))\n",
        "\n",
        "# 1) Initial guess\n",
        "# 2) Calculate gradient\n",
        "# 3) Update guess\n",
        "# 4) If new guess = old guess (+/-) threshold, return guess\n",
        "# 5) Else: #2\n",
        "\n",
        "def derivative(func, x, h):\n",
        "  return (func(x+h) - func(x)) / h\n",
        "\n",
        "# paramaters\n",
        "alpha = 0.01\n",
        "beta = 0.01\n",
        "threshold = 0.0001\n",
        "\n",
        "# initial guess\n",
        "x2 = x1 = -6.5\n",
        "x3 = 2*threshold + x2\n",
        "\n",
        "while np.absolute(x3 - x2) > threshold:\n",
        "  x1 = x2 \n",
        "  x2 = x3\n",
        "\n",
        "  # calculate gradient\n",
        "  gradient = derivative(f, x2, 0.0001)\n",
        "\n",
        "  # update guess\n",
        "  x3 = x2 - alpha * gradient + beta * (x2 - x1)\n",
        "\n",
        "plt.plot(x3, f(x3), 'ro')\n",
        "plt.show()\n"
      ],
      "metadata": {
        "colab": {
          "base_uri": "https://localhost:8080/",
          "height": 265
        },
        "id": "sBV7gidOxXEe",
        "outputId": "2ca5d23d-0e88-45fd-95f8-17f7313d695f"
      },
      "execution_count": null,
      "outputs": [
        {
          "output_type": "display_data",
          "data": {
            "image/png": "[encoded data removed]",
            "text/plain": [
              "<Figure size 432x288 with 1 Axes>"
            ]
          },
          "metadata": {
            "needs_background": "light"
          }
        }
      ]
    },
    {
      "cell_type": "code",
      "source": [
        ""
      ],
      "metadata": {
        "id": "BQP36c6J-PO9"
      },
      "execution_count": null,
      "outputs": []
    }
  ]
}